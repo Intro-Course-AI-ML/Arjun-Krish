{
  "nbformat": 4,
  "nbformat_minor": 0,
  "metadata": {
    "kernelspec": {
      "display_name": "Python 3",
      "language": "python",
      "name": "python3"
    },
    "language_info": {
      "codemirror_mode": {
        "name": "ipython",
        "version": 3
      },
      "file_extension": ".py",
      "mimetype": "text/x-python",
      "name": "python",
      "nbconvert_exporter": "python",
      "pygments_lexer": "ipython3",
      "version": "3.7.6"
    },
    "colab": {
      "name": "WEEK4PROJECTKerasNueralNetwork.ipynb",
      "provenance": [],
      "include_colab_link": true
    }
  },
  "cells": [
    {
      "cell_type": "markdown",
      "metadata": {
        "id": "view-in-github",
        "colab_type": "text"
      },
      "source": [
        "<a href=\"https://colab.research.google.com/github/SiP-AI-ML/Arjun-Krish/blob/master/WEEK4PROJECTKerasNueralNetwork.ipynb\" target=\"_parent\"><img src=\"https://colab.research.google.com/assets/colab-badge.svg\" alt=\"Open In Colab\"/></a>"
      ]
    },
    {
      "cell_type": "code",
      "metadata": {
        "id": "X9IBiVG93xMc",
        "colab_type": "code",
        "colab": {}
      },
      "source": [
        "from numpy import loadtxt\n",
        "from keras.models import Sequential\n",
        "from keras.layers import Dense\n",
        "import matplotlib.pyplot as plt"
      ],
      "execution_count": 17,
      "outputs": []
    },
    {
      "cell_type": "code",
      "metadata": {
        "id": "Xf_ARe4M3xM1",
        "colab_type": "code",
        "colab": {}
      },
      "source": [
        "# load the dataset\n",
        "dataset = loadtxt('https://raw.githubusercontent.com/jbrownlee/Datasets/master/pima-indians-diabetes.data.csv', delimiter=',')\n",
        "# split into input (X) and output (y) variables\n",
        "X = dataset[:,0:8]\n",
        "y = dataset[:,8]"
      ],
      "execution_count": 18,
      "outputs": []
    },
    {
      "cell_type": "code",
      "metadata": {
        "id": "UBdrDXY-3xNH",
        "colab_type": "code",
        "colab": {}
      },
      "source": [
        "# define the keras model\n",
        "model = Sequential()\n",
        "model.add(Dense(12, input_dim=8, activation='relu'))\n",
        "model.add(Dense(8, activation='relu'))\n",
        "model.add(Dense(1, activation='sigmoid'))"
      ],
      "execution_count": 19,
      "outputs": []
    },
    {
      "cell_type": "code",
      "metadata": {
        "id": "nAGmJJZv3xNN",
        "colab_type": "code",
        "colab": {}
      },
      "source": [
        "# compile the keras model\n",
        "model.compile(loss='binary_crossentropy', optimizer='adam', metrics=['accuracy'])"
      ],
      "execution_count": 20,
      "outputs": []
    },
    {
      "cell_type": "code",
      "metadata": {
        "id": "lGaB4_dl3xNU",
        "colab_type": "code",
        "colab": {
          "base_uri": "https://localhost:8080/",
          "height": 1000
        },
        "outputId": "5bf77266-27a4-4d21-cd27-e1e4e796bfa9"
      },
      "source": [
        "# fit the keras model on the dataset, train the model\n",
        "training = model.fit(X, y, epochs=150, batch_size=10, verbose = 2)\n",
        "# if you change the epochs, you get better accuracy. If you give the model more data, it will fare better."
      ],
      "execution_count": 21,
      "outputs": [
        {
          "output_type": "stream",
          "text": [
            "Epoch 1/150\n",
            " - 0s - loss: 2.1816 - accuracy: 0.5846\n",
            "Epoch 2/150\n",
            " - 0s - loss: 1.2037 - accuracy: 0.6302\n",
            "Epoch 3/150\n",
            " - 0s - loss: 0.9451 - accuracy: 0.6263\n",
            "Epoch 4/150\n",
            " - 0s - loss: 0.7417 - accuracy: 0.6250\n",
            "Epoch 5/150\n",
            " - 0s - loss: 0.6874 - accuracy: 0.6589\n",
            "Epoch 6/150\n",
            " - 0s - loss: 0.6595 - accuracy: 0.6510\n",
            "Epoch 7/150\n",
            " - 0s - loss: 0.6707 - accuracy: 0.6667\n",
            "Epoch 8/150\n",
            " - 0s - loss: 0.6529 - accuracy: 0.6562\n",
            "Epoch 9/150\n",
            " - 0s - loss: 0.6679 - accuracy: 0.6654\n",
            "Epoch 10/150\n",
            " - 0s - loss: 0.6250 - accuracy: 0.6966\n",
            "Epoch 11/150\n",
            " - 0s - loss: 0.6191 - accuracy: 0.6927\n",
            "Epoch 12/150\n",
            " - 0s - loss: 0.6034 - accuracy: 0.6979\n",
            "Epoch 13/150\n",
            " - 0s - loss: 0.5954 - accuracy: 0.7005\n",
            "Epoch 14/150\n",
            " - 0s - loss: 0.5930 - accuracy: 0.7005\n",
            "Epoch 15/150\n",
            " - 0s - loss: 0.5964 - accuracy: 0.7031\n",
            "Epoch 16/150\n",
            " - 0s - loss: 0.6097 - accuracy: 0.6953\n",
            "Epoch 17/150\n",
            " - 0s - loss: 0.6203 - accuracy: 0.6836\n",
            "Epoch 18/150\n",
            " - 0s - loss: 0.5911 - accuracy: 0.7122\n",
            "Epoch 19/150\n",
            " - 0s - loss: 0.5907 - accuracy: 0.6927\n",
            "Epoch 20/150\n",
            " - 0s - loss: 0.5836 - accuracy: 0.6992\n",
            "Epoch 21/150\n",
            " - 0s - loss: 0.5837 - accuracy: 0.7057\n",
            "Epoch 22/150\n",
            " - 0s - loss: 0.5730 - accuracy: 0.7214\n",
            "Epoch 23/150\n",
            " - 0s - loss: 0.5759 - accuracy: 0.7214\n",
            "Epoch 24/150\n",
            " - 0s - loss: 0.5872 - accuracy: 0.7083\n",
            "Epoch 25/150\n",
            " - 0s - loss: 0.5827 - accuracy: 0.7096\n",
            "Epoch 26/150\n",
            " - 0s - loss: 0.5687 - accuracy: 0.7161\n",
            "Epoch 27/150\n",
            " - 0s - loss: 0.5634 - accuracy: 0.7253\n",
            "Epoch 28/150\n",
            " - 0s - loss: 0.5688 - accuracy: 0.7161\n",
            "Epoch 29/150\n",
            " - 0s - loss: 0.5665 - accuracy: 0.7148\n",
            "Epoch 30/150\n",
            " - 0s - loss: 0.5814 - accuracy: 0.7018\n",
            "Epoch 31/150\n",
            " - 0s - loss: 0.5700 - accuracy: 0.7083\n",
            "Epoch 32/150\n",
            " - 0s - loss: 0.5653 - accuracy: 0.7214\n",
            "Epoch 33/150\n",
            " - 0s - loss: 0.5564 - accuracy: 0.7292\n",
            "Epoch 34/150\n",
            " - 0s - loss: 0.5575 - accuracy: 0.7240\n",
            "Epoch 35/150\n",
            " - 0s - loss: 0.5556 - accuracy: 0.7188\n",
            "Epoch 36/150\n",
            " - 0s - loss: 0.5574 - accuracy: 0.7240\n",
            "Epoch 37/150\n",
            " - 0s - loss: 0.5555 - accuracy: 0.7201\n",
            "Epoch 38/150\n",
            " - 0s - loss: 0.5537 - accuracy: 0.7383\n",
            "Epoch 39/150\n",
            " - 0s - loss: 0.5696 - accuracy: 0.7174\n",
            "Epoch 40/150\n",
            " - 0s - loss: 0.5521 - accuracy: 0.7318\n",
            "Epoch 41/150\n",
            " - 0s - loss: 0.5588 - accuracy: 0.7148\n",
            "Epoch 42/150\n",
            " - 0s - loss: 0.5482 - accuracy: 0.7083\n",
            "Epoch 43/150\n",
            " - 0s - loss: 0.5619 - accuracy: 0.7331\n",
            "Epoch 44/150\n",
            " - 0s - loss: 0.5476 - accuracy: 0.7370\n",
            "Epoch 45/150\n",
            " - 0s - loss: 0.5478 - accuracy: 0.7279\n",
            "Epoch 46/150\n",
            " - 0s - loss: 0.5407 - accuracy: 0.7318\n",
            "Epoch 47/150\n",
            " - 0s - loss: 0.5464 - accuracy: 0.7370\n",
            "Epoch 48/150\n",
            " - 0s - loss: 0.5547 - accuracy: 0.7370\n",
            "Epoch 49/150\n",
            " - 0s - loss: 0.5553 - accuracy: 0.7305\n",
            "Epoch 50/150\n",
            " - 0s - loss: 0.5533 - accuracy: 0.7253\n",
            "Epoch 51/150\n",
            " - 0s - loss: 0.5403 - accuracy: 0.7396\n",
            "Epoch 52/150\n",
            " - 0s - loss: 0.5411 - accuracy: 0.7331\n",
            "Epoch 53/150\n",
            " - 0s - loss: 0.5521 - accuracy: 0.7214\n",
            "Epoch 54/150\n",
            " - 0s - loss: 0.5693 - accuracy: 0.7318\n",
            "Epoch 55/150\n",
            " - 0s - loss: 0.5340 - accuracy: 0.7370\n",
            "Epoch 56/150\n",
            " - 0s - loss: 0.5446 - accuracy: 0.7305\n",
            "Epoch 57/150\n",
            " - 0s - loss: 0.5321 - accuracy: 0.7409\n",
            "Epoch 58/150\n",
            " - 0s - loss: 0.5357 - accuracy: 0.7331\n",
            "Epoch 59/150\n",
            " - 0s - loss: 0.5555 - accuracy: 0.7135\n",
            "Epoch 60/150\n",
            " - 0s - loss: 0.5480 - accuracy: 0.7240\n",
            "Epoch 61/150\n",
            " - 0s - loss: 0.5396 - accuracy: 0.7409\n",
            "Epoch 62/150\n",
            " - 0s - loss: 0.5310 - accuracy: 0.7370\n",
            "Epoch 63/150\n",
            " - 0s - loss: 0.5391 - accuracy: 0.7240\n",
            "Epoch 64/150\n",
            " - 0s - loss: 0.5284 - accuracy: 0.7370\n",
            "Epoch 65/150\n",
            " - 0s - loss: 0.5492 - accuracy: 0.7344\n",
            "Epoch 66/150\n",
            " - 0s - loss: 0.5292 - accuracy: 0.7383\n",
            "Epoch 67/150\n",
            " - 0s - loss: 0.5329 - accuracy: 0.7409\n",
            "Epoch 68/150\n",
            " - 0s - loss: 0.5288 - accuracy: 0.7266\n",
            "Epoch 69/150\n",
            " - 0s - loss: 0.5274 - accuracy: 0.7513\n",
            "Epoch 70/150\n",
            " - 0s - loss: 0.5262 - accuracy: 0.7565\n",
            "Epoch 71/150\n",
            " - 0s - loss: 0.5365 - accuracy: 0.7396\n",
            "Epoch 72/150\n",
            " - 0s - loss: 0.5536 - accuracy: 0.7201\n",
            "Epoch 73/150\n",
            " - 0s - loss: 0.5517 - accuracy: 0.7148\n",
            "Epoch 74/150\n",
            " - 0s - loss: 0.5250 - accuracy: 0.7357\n",
            "Epoch 75/150\n",
            " - 0s - loss: 0.5303 - accuracy: 0.7461\n",
            "Epoch 76/150\n",
            " - 0s - loss: 0.5287 - accuracy: 0.7344\n",
            "Epoch 77/150\n",
            " - 0s - loss: 0.5247 - accuracy: 0.7474\n",
            "Epoch 78/150\n",
            " - 0s - loss: 0.5247 - accuracy: 0.7448\n",
            "Epoch 79/150\n",
            " - 0s - loss: 0.5333 - accuracy: 0.7383\n",
            "Epoch 80/150\n",
            " - 0s - loss: 0.5164 - accuracy: 0.7539\n",
            "Epoch 81/150\n",
            " - 0s - loss: 0.5277 - accuracy: 0.7370\n",
            "Epoch 82/150\n",
            " - 0s - loss: 0.5349 - accuracy: 0.7279\n",
            "Epoch 83/150\n",
            " - 0s - loss: 0.5464 - accuracy: 0.7331\n",
            "Epoch 84/150\n",
            " - 0s - loss: 0.5257 - accuracy: 0.7448\n",
            "Epoch 85/150\n",
            " - 0s - loss: 0.5274 - accuracy: 0.7227\n",
            "Epoch 86/150\n",
            " - 0s - loss: 0.5267 - accuracy: 0.7292\n",
            "Epoch 87/150\n",
            " - 0s - loss: 0.5192 - accuracy: 0.7422\n",
            "Epoch 88/150\n",
            " - 0s - loss: 0.5368 - accuracy: 0.7357\n",
            "Epoch 89/150\n",
            " - 0s - loss: 0.5091 - accuracy: 0.7487\n",
            "Epoch 90/150\n",
            " - 0s - loss: 0.5162 - accuracy: 0.7396\n",
            "Epoch 91/150\n",
            " - 0s - loss: 0.5167 - accuracy: 0.7513\n",
            "Epoch 92/150\n",
            " - 0s - loss: 0.5127 - accuracy: 0.7591\n",
            "Epoch 93/150\n",
            " - 0s - loss: 0.5141 - accuracy: 0.7500\n",
            "Epoch 94/150\n",
            " - 0s - loss: 0.5209 - accuracy: 0.7409\n",
            "Epoch 95/150\n",
            " - 0s - loss: 0.5172 - accuracy: 0.7409\n",
            "Epoch 96/150\n",
            " - 0s - loss: 0.5073 - accuracy: 0.7513\n",
            "Epoch 97/150\n",
            " - 0s - loss: 0.5135 - accuracy: 0.7461\n",
            "Epoch 98/150\n",
            " - 0s - loss: 0.5260 - accuracy: 0.7461\n",
            "Epoch 99/150\n",
            " - 0s - loss: 0.5185 - accuracy: 0.7383\n",
            "Epoch 100/150\n",
            " - 0s - loss: 0.5107 - accuracy: 0.7487\n",
            "Epoch 101/150\n",
            " - 0s - loss: 0.5088 - accuracy: 0.7396\n",
            "Epoch 102/150\n",
            " - 0s - loss: 0.5099 - accuracy: 0.7500\n",
            "Epoch 103/150\n",
            " - 0s - loss: 0.5018 - accuracy: 0.7461\n",
            "Epoch 104/150\n",
            " - 0s - loss: 0.5065 - accuracy: 0.7448\n",
            "Epoch 105/150\n",
            " - 0s - loss: 0.5118 - accuracy: 0.7370\n",
            "Epoch 106/150\n",
            " - 0s - loss: 0.5129 - accuracy: 0.7409\n",
            "Epoch 107/150\n",
            " - 0s - loss: 0.5183 - accuracy: 0.7461\n",
            "Epoch 108/150\n",
            " - 0s - loss: 0.4982 - accuracy: 0.7604\n",
            "Epoch 109/150\n",
            " - 0s - loss: 0.5030 - accuracy: 0.7682\n",
            "Epoch 110/150\n",
            " - 0s - loss: 0.4924 - accuracy: 0.7513\n",
            "Epoch 111/150\n",
            " - 0s - loss: 0.5117 - accuracy: 0.7474\n",
            "Epoch 112/150\n",
            " - 0s - loss: 0.4975 - accuracy: 0.7695\n",
            "Epoch 113/150\n",
            " - 0s - loss: 0.5122 - accuracy: 0.7578\n",
            "Epoch 114/150\n",
            " - 0s - loss: 0.4985 - accuracy: 0.7552\n",
            "Epoch 115/150\n",
            " - 0s - loss: 0.5015 - accuracy: 0.7513\n",
            "Epoch 116/150\n",
            " - 0s - loss: 0.4990 - accuracy: 0.7617\n",
            "Epoch 117/150\n",
            " - 0s - loss: 0.4964 - accuracy: 0.7565\n",
            "Epoch 118/150\n",
            " - 0s - loss: 0.5018 - accuracy: 0.7565\n",
            "Epoch 119/150\n",
            " - 0s - loss: 0.5139 - accuracy: 0.7565\n",
            "Epoch 120/150\n",
            " - 0s - loss: 0.5080 - accuracy: 0.7526\n",
            "Epoch 121/150\n",
            " - 0s - loss: 0.4993 - accuracy: 0.7552\n",
            "Epoch 122/150\n",
            " - 0s - loss: 0.5142 - accuracy: 0.7409\n",
            "Epoch 123/150\n",
            " - 0s - loss: 0.5297 - accuracy: 0.7435\n",
            "Epoch 124/150\n",
            " - 0s - loss: 0.5160 - accuracy: 0.7461\n",
            "Epoch 125/150\n",
            " - 0s - loss: 0.5068 - accuracy: 0.7448\n",
            "Epoch 126/150\n",
            " - 0s - loss: 0.4977 - accuracy: 0.7630\n",
            "Epoch 127/150\n",
            " - 0s - loss: 0.5019 - accuracy: 0.7552\n",
            "Epoch 128/150\n",
            " - 0s - loss: 0.5095 - accuracy: 0.7422\n",
            "Epoch 129/150\n",
            " - 0s - loss: 0.5016 - accuracy: 0.7669\n",
            "Epoch 130/150\n",
            " - 0s - loss: 0.4972 - accuracy: 0.7500\n",
            "Epoch 131/150\n",
            " - 0s - loss: 0.5013 - accuracy: 0.7448\n",
            "Epoch 132/150\n",
            " - 0s - loss: 0.4945 - accuracy: 0.7552\n",
            "Epoch 133/150\n",
            " - 0s - loss: 0.4996 - accuracy: 0.7513\n",
            "Epoch 134/150\n",
            " - 0s - loss: 0.5043 - accuracy: 0.7526\n",
            "Epoch 135/150\n",
            " - 0s - loss: 0.4994 - accuracy: 0.7643\n",
            "Epoch 136/150\n",
            " - 0s - loss: 0.4926 - accuracy: 0.7539\n",
            "Epoch 137/150\n",
            " - 0s - loss: 0.4949 - accuracy: 0.7474\n",
            "Epoch 138/150\n",
            " - 0s - loss: 0.4887 - accuracy: 0.7591\n",
            "Epoch 139/150\n",
            " - 0s - loss: 0.4906 - accuracy: 0.7526\n",
            "Epoch 140/150\n",
            " - 0s - loss: 0.4904 - accuracy: 0.7643\n",
            "Epoch 141/150\n",
            " - 0s - loss: 0.5006 - accuracy: 0.7604\n",
            "Epoch 142/150\n",
            " - 0s - loss: 0.5098 - accuracy: 0.7513\n",
            "Epoch 143/150\n",
            " - 0s - loss: 0.4983 - accuracy: 0.7448\n",
            "Epoch 144/150\n",
            " - 0s - loss: 0.5035 - accuracy: 0.7630\n",
            "Epoch 145/150\n",
            " - 0s - loss: 0.4995 - accuracy: 0.7617\n",
            "Epoch 146/150\n",
            " - 0s - loss: 0.4906 - accuracy: 0.7617\n",
            "Epoch 147/150\n",
            " - 0s - loss: 0.5172 - accuracy: 0.7435\n",
            "Epoch 148/150\n",
            " - 0s - loss: 0.4922 - accuracy: 0.7695\n",
            "Epoch 149/150\n",
            " - 0s - loss: 0.5016 - accuracy: 0.7474\n",
            "Epoch 150/150\n",
            " - 0s - loss: 0.5087 - accuracy: 0.7578\n"
          ],
          "name": "stdout"
        }
      ]
    },
    {
      "cell_type": "code",
      "metadata": {
        "id": "IYgpN3mX3xNb",
        "colab_type": "code",
        "colab": {
          "base_uri": "https://localhost:8080/",
          "height": 312
        },
        "outputId": "e4ca4a0b-bfe7-49c2-f8dc-6fa149de0c10"
      },
      "source": [
        "# now lets see how the accuracy of our model increased over training.\n",
        "# summarize history for accuracy\n",
        "print(training.history.keys())\n",
        "plt.plot(training.history['accuracy'])\n",
        "plt.title('Model Accuracy')\n",
        "plt.ylabel('Accuracy')\n",
        "plt.xlabel('Epochs')\n",
        "plt.show()"
      ],
      "execution_count": 22,
      "outputs": [
        {
          "output_type": "stream",
          "text": [
            "dict_keys(['loss', 'accuracy'])\n"
          ],
          "name": "stdout"
        },
        {
          "output_type": "display_data",
          "data": {
            "image/png": "[encoded data removed]",
            "text/plain": [
              "<Figure size 432x288 with 1 Axes>"
            ]
          },
          "metadata": {
            "tags": [],
            "needs_background": "light"
          }
        }
      ]
    },
    {
      "cell_type": "code",
      "metadata": {
        "id": "tsNW8BFg3xNj",
        "colab_type": "code",
        "colab": {
          "base_uri": "https://localhost:8080/",
          "height": 295
        },
        "outputId": "38b93127-ee47-4ed0-a095-7b7b6d5e30c1"
      },
      "source": [
        "# now lets see how the loss of our model progressed over training.\n",
        "plt.plot(training.history['loss'])\n",
        "plt.title('Model Loss')\n",
        "plt.ylabel('Loss')\n",
        "plt.xlabel('Epochs')\n",
        "plt.show()"
      ],
      "execution_count": 23,
      "outputs": [
        {
          "output_type": "display_data",
          "data": {
            "image/png": "[encoded data removed]",
            "text/plain": [
              "<Figure size 432x288 with 1 Axes>"
            ]
          },
          "metadata": {
            "tags": [],
            "needs_background": "light"
          }
        }
      ]
    },
    {
      "cell_type": "code",
      "metadata": {
        "id": "hyG2Ebue3xNo",
        "colab_type": "code",
        "colab": {
          "base_uri": "https://localhost:8080/",
          "height": 68
        },
        "outputId": "ea1baa03-df83-44d8-ce4d-fd386d11bdac"
      },
      "source": [
        "# evaluate the keras model\n",
        "_, accuracy = model.evaluate(X, y)\n",
        "print(accuracy * 100)\n",
        "print('Accuracy: %.2f' % (accuracy*100))"
      ],
      "execution_count": 24,
      "outputs": [
        {
          "output_type": "stream",
          "text": [
            "768/768 [==============================] - 0s 45us/step\n",
            "76.04166865348816\n",
            "Accuracy: 76.04\n"
          ],
          "name": "stdout"
        }
      ]
    },
    {
      "cell_type": "markdown",
      "metadata": {
        "id": "Nwy_z3Eo4JMc",
        "colab_type": "text"
      },
      "source": [
        "Find code and explanations in LessonMaterials/KerasNueralNetwork.ipynb"
      ]
    }
  ]
}