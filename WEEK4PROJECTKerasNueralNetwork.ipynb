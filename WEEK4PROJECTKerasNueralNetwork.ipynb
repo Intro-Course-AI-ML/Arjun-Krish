{
  "nbformat": 4,
  "nbformat_minor": 0,
  "metadata": {
    "kernelspec": {
      "display_name": "Python 3",
      "language": "python",
      "name": "python3"
    },
    "language_info": {
      "codemirror_mode": {
        "name": "ipython",
        "version": 3
      },
      "file_extension": ".py",
      "mimetype": "text/x-python",
      "name": "python",
      "nbconvert_exporter": "python",
      "pygments_lexer": "ipython3",
      "version": "3.7.6"
    },
    "colab": {
      "name": "WEEK4PROJECTKerasNueralNetwork.ipynb",
      "provenance": [],
      "include_colab_link": true
    }
  },
  "cells": [
    {
      "cell_type": "markdown",
      "metadata": {
        "id": "view-in-github",
        "colab_type": "text"
      },
      "source": [
        "<a href=\"https://colab.research.google.com/github/SiP-AI-ML/Arjun-Krish/blob/master/WEEK4PROJECTKerasNueralNetwork.ipynb\" target=\"_parent\"><img src=\"https://colab.research.google.com/assets/colab-badge.svg\" alt=\"Open In Colab\"/></a>"
      ]
    },
    {
      "cell_type": "code",
      "metadata": {
        "id": "X9IBiVG93xMc",
        "colab_type": "code",
        "colab": {}
      },
      "source": [
        "from numpy import loadtxt\n",
        "from keras.models import Sequential\n",
        "from keras.layers import Dense\n",
        "import matplotlib.pyplot as plt"
      ],
      "execution_count": null,
      "outputs": []
    },
    {
      "cell_type": "code",
      "metadata": {
        "id": "Xf_ARe4M3xM1",
        "colab_type": "code",
        "colab": {}
      },
      "source": [
        "# load the dataset\n",
        "dataset = loadtxt('https://raw.githubusercontent.com/jbrownlee/Datasets/master/pima-indians-diabetes.data.csv', delimiter=',')\n",
        "# split into input (X) and output (y) variables\n",
        "X = dataset[:,0:8]\n",
        "y = dataset[:,8]"
      ],
      "execution_count": null,
      "outputs": []
    },
    {
      "cell_type": "code",
      "metadata": {
        "id": "UBdrDXY-3xNH",
        "colab_type": "code",
        "colab": {}
      },
      "source": [
        "# define the keras model\n",
        "model = Sequential()\n",
        "model.add(Dense(12, input_dim=8, activation='relu'))\n",
        "model.add(Dense(8, activation='relu'))\n",
        "model.add(Dense(1, activation='sigmoid'))"
      ],
      "execution_count": null,
      "outputs": []
    },
    {
      "cell_type": "code",
      "metadata": {
        "id": "nAGmJJZv3xNN",
        "colab_type": "code",
        "colab": {}
      },
      "source": [
        "# compile the keras model\n",
        "model.compile(loss='binary_crossentropy', optimizer='adam', metrics=['accuracy'])"
      ],
      "execution_count": null,
      "outputs": []
    },
    {
      "cell_type": "code",
      "metadata": {
        "id": "lGaB4_dl3xNU",
        "colab_type": "code",
        "colab": {},
        "outputId": "20d62235-a83f-4c58-a404-d5396c81c4a9"
      },
      "source": [
        "# fit the keras model on the dataset, train the model\n",
        "training = model.fit(X, y, epochs=150, batch_size=10, verbose = 2)"
      ],
      "execution_count": null,
      "outputs": [
        {
          "output_type": "stream",
          "text": [
            "Epoch 1/150\n",
            " - 0s - loss: 0.4618 - accuracy: 0.7956\n",
            "Epoch 2/150\n",
            " - 0s - loss: 0.4527 - accuracy: 0.7786\n",
            "Epoch 3/150\n",
            " - 0s - loss: 0.4493 - accuracy: 0.8034\n",
            "Epoch 4/150\n",
            " - 0s - loss: 0.4598 - accuracy: 0.7852\n",
            "Epoch 5/150\n",
            " - 0s - loss: 0.4506 - accuracy: 0.7930\n",
            "Epoch 6/150\n",
            " - 0s - loss: 0.4529 - accuracy: 0.7930\n",
            "Epoch 7/150\n",
            " - 0s - loss: 0.4437 - accuracy: 0.7969\n",
            "Epoch 8/150\n",
            " - 0s - loss: 0.4529 - accuracy: 0.7852\n",
            "Epoch 9/150\n",
            " - 0s - loss: 0.4509 - accuracy: 0.7956\n",
            "Epoch 10/150\n",
            " - 0s - loss: 0.4687 - accuracy: 0.7812\n",
            "Epoch 11/150\n",
            " - 0s - loss: 0.4449 - accuracy: 0.7969\n",
            "Epoch 12/150\n",
            " - 0s - loss: 0.4482 - accuracy: 0.7956\n",
            "Epoch 13/150\n",
            " - 0s - loss: 0.4537 - accuracy: 0.7799\n",
            "Epoch 14/150\n",
            " - 0s - loss: 0.4528 - accuracy: 0.7930\n",
            "Epoch 15/150\n",
            " - 0s - loss: 0.4472 - accuracy: 0.8060\n",
            "Epoch 16/150\n",
            " - 0s - loss: 0.4443 - accuracy: 0.7799\n",
            "Epoch 17/150\n",
            " - 0s - loss: 0.4485 - accuracy: 0.7826\n",
            "Epoch 18/150\n",
            " - 0s - loss: 0.4574 - accuracy: 0.8008\n",
            "Epoch 19/150\n",
            " - 0s - loss: 0.4502 - accuracy: 0.7982\n",
            "Epoch 20/150\n",
            " - 0s - loss: 0.4517 - accuracy: 0.7930\n",
            "Epoch 21/150\n",
            " - 0s - loss: 0.4547 - accuracy: 0.7826\n",
            "Epoch 22/150\n",
            " - 0s - loss: 0.4570 - accuracy: 0.7839\n",
            "Epoch 23/150\n",
            " - 0s - loss: 0.4440 - accuracy: 0.8047\n",
            "Epoch 24/150\n",
            " - 0s - loss: 0.4478 - accuracy: 0.7891\n",
            "Epoch 25/150\n",
            " - 0s - loss: 0.4464 - accuracy: 0.8008\n",
            "Epoch 26/150\n",
            " - 0s - loss: 0.4450 - accuracy: 0.7865\n",
            "Epoch 27/150\n",
            " - 0s - loss: 0.4466 - accuracy: 0.7865\n",
            "Epoch 28/150\n",
            " - 0s - loss: 0.4511 - accuracy: 0.7969\n",
            "Epoch 29/150\n",
            " - 0s - loss: 0.4546 - accuracy: 0.7826\n",
            "Epoch 30/150\n",
            " - 0s - loss: 0.4467 - accuracy: 0.7969\n",
            "Epoch 31/150\n",
            " - 0s - loss: 0.4598 - accuracy: 0.7852\n",
            "Epoch 32/150\n",
            " - 0s - loss: 0.4517 - accuracy: 0.7799\n",
            "Epoch 33/150\n",
            " - 0s - loss: 0.4515 - accuracy: 0.7943\n",
            "Epoch 34/150\n",
            " - 0s - loss: 0.4584 - accuracy: 0.7995\n",
            "Epoch 35/150\n",
            " - 0s - loss: 0.4369 - accuracy: 0.7839\n",
            "Epoch 36/150\n",
            " - 0s - loss: 0.4416 - accuracy: 0.7865\n",
            "Epoch 37/150\n",
            " - 0s - loss: 0.4515 - accuracy: 0.7891\n",
            "Epoch 38/150\n",
            " - 0s - loss: 0.4498 - accuracy: 0.7982\n",
            "Epoch 39/150\n",
            " - 0s - loss: 0.4463 - accuracy: 0.7943\n",
            "Epoch 40/150\n",
            " - 0s - loss: 0.4386 - accuracy: 0.7917\n",
            "Epoch 41/150\n",
            " - 0s - loss: 0.4437 - accuracy: 0.8008\n",
            "Epoch 42/150\n",
            " - 0s - loss: 0.4396 - accuracy: 0.7995\n",
            "Epoch 43/150\n",
            " - 0s - loss: 0.4550 - accuracy: 0.7878\n",
            "Epoch 44/150\n",
            " - 0s - loss: 0.4492 - accuracy: 0.7878\n",
            "Epoch 45/150\n",
            " - 0s - loss: 0.4450 - accuracy: 0.7982\n",
            "Epoch 46/150\n",
            " - 0s - loss: 0.4565 - accuracy: 0.7878\n",
            "Epoch 47/150\n",
            " - 0s - loss: 0.4421 - accuracy: 0.7891\n",
            "Epoch 48/150\n",
            " - 0s - loss: 0.4436 - accuracy: 0.7878\n",
            "Epoch 49/150\n",
            " - 0s - loss: 0.4417 - accuracy: 0.7930\n",
            "Epoch 50/150\n",
            " - 0s - loss: 0.4383 - accuracy: 0.7982\n",
            "Epoch 51/150\n",
            " - 0s - loss: 0.4457 - accuracy: 0.7982\n",
            "Epoch 52/150\n",
            " - 0s - loss: 0.4411 - accuracy: 0.7969\n",
            "Epoch 53/150\n",
            " - 0s - loss: 0.4479 - accuracy: 0.7956\n",
            "Epoch 54/150\n",
            " - 0s - loss: 0.4428 - accuracy: 0.7865\n",
            "Epoch 55/150\n",
            " - 0s - loss: 0.4471 - accuracy: 0.7943\n",
            "Epoch 56/150\n",
            " - 0s - loss: 0.4620 - accuracy: 0.7812\n",
            "Epoch 57/150\n",
            " - 0s - loss: 0.4535 - accuracy: 0.7839\n",
            "Epoch 58/150\n",
            " - 0s - loss: 0.4487 - accuracy: 0.7917\n",
            "Epoch 59/150\n",
            " - 0s - loss: 0.4573 - accuracy: 0.7786\n",
            "Epoch 60/150\n",
            " - 0s - loss: 0.4411 - accuracy: 0.8008\n",
            "Epoch 61/150\n",
            " - 0s - loss: 0.4401 - accuracy: 0.8060\n",
            "Epoch 62/150\n",
            " - 0s - loss: 0.4365 - accuracy: 0.7943\n",
            "Epoch 63/150\n",
            " - 0s - loss: 0.4351 - accuracy: 0.8021\n",
            "Epoch 64/150\n",
            " - 0s - loss: 0.4484 - accuracy: 0.7773\n",
            "Epoch 65/150\n",
            " - 0s - loss: 0.4422 - accuracy: 0.7891\n",
            "Epoch 66/150\n",
            " - 0s - loss: 0.4479 - accuracy: 0.7839\n",
            "Epoch 67/150\n",
            " - 0s - loss: 0.4460 - accuracy: 0.8034\n",
            "Epoch 68/150\n",
            " - 0s - loss: 0.4349 - accuracy: 0.7917\n",
            "Epoch 69/150\n",
            " - 0s - loss: 0.4359 - accuracy: 0.7943\n",
            "Epoch 70/150\n",
            " - 0s - loss: 0.4402 - accuracy: 0.7917\n",
            "Epoch 71/150\n",
            " - 0s - loss: 0.4482 - accuracy: 0.7721\n",
            "Epoch 72/150\n",
            " - 0s - loss: 0.4348 - accuracy: 0.7943\n",
            "Epoch 73/150\n",
            " - 0s - loss: 0.4459 - accuracy: 0.7839\n",
            "Epoch 74/150\n",
            " - 0s - loss: 0.4344 - accuracy: 0.8047\n",
            "Epoch 75/150\n",
            " - 0s - loss: 0.4300 - accuracy: 0.8073\n",
            "Epoch 76/150\n",
            " - 0s - loss: 0.4440 - accuracy: 0.7956\n",
            "Epoch 77/150\n",
            " - 0s - loss: 0.4354 - accuracy: 0.7982\n",
            "Epoch 78/150\n",
            " - 0s - loss: 0.4372 - accuracy: 0.8008\n",
            "Epoch 79/150\n",
            " - 0s - loss: 0.4374 - accuracy: 0.7969\n",
            "Epoch 80/150\n",
            " - 0s - loss: 0.4422 - accuracy: 0.7982\n",
            "Epoch 81/150\n",
            " - 0s - loss: 0.4349 - accuracy: 0.7904\n",
            "Epoch 82/150\n",
            " - 0s - loss: 0.4301 - accuracy: 0.7930\n",
            "Epoch 83/150\n",
            " - 0s - loss: 0.4354 - accuracy: 0.8034\n",
            "Epoch 84/150\n",
            " - 0s - loss: 0.4451 - accuracy: 0.8021\n",
            "Epoch 85/150\n",
            " - 0s - loss: 0.4409 - accuracy: 0.7878\n",
            "Epoch 86/150\n",
            " - 0s - loss: 0.4331 - accuracy: 0.8008\n",
            "Epoch 87/150\n",
            " - 0s - loss: 0.4476 - accuracy: 0.7995\n",
            "Epoch 88/150\n",
            " - 0s - loss: 0.4396 - accuracy: 0.7878\n",
            "Epoch 89/150\n",
            " - 0s - loss: 0.4400 - accuracy: 0.8073\n",
            "Epoch 90/150\n",
            " - 0s - loss: 0.4570 - accuracy: 0.7786\n",
            "Epoch 91/150\n",
            " - 0s - loss: 0.4375 - accuracy: 0.8099\n",
            "Epoch 92/150\n",
            " - 0s - loss: 0.4533 - accuracy: 0.7812\n",
            "Epoch 93/150\n",
            " - 0s - loss: 0.4507 - accuracy: 0.8073\n",
            "Epoch 94/150\n",
            " - 0s - loss: 0.4336 - accuracy: 0.7904\n",
            "Epoch 95/150\n",
            " - 0s - loss: 0.4388 - accuracy: 0.8060\n",
            "Epoch 96/150\n",
            " - 0s - loss: 0.4367 - accuracy: 0.7839\n",
            "Epoch 97/150\n",
            " - 0s - loss: 0.4414 - accuracy: 0.8047\n",
            "Epoch 98/150\n",
            " - 0s - loss: 0.4310 - accuracy: 0.7969\n",
            "Epoch 99/150\n",
            " - 0s - loss: 0.4509 - accuracy: 0.7891\n",
            "Epoch 100/150\n",
            " - 0s - loss: 0.4428 - accuracy: 0.7956\n",
            "Epoch 101/150\n",
            " - 0s - loss: 0.4286 - accuracy: 0.8060\n",
            "Epoch 102/150\n",
            " - 0s - loss: 0.4581 - accuracy: 0.7878\n",
            "Epoch 103/150\n",
            " - 0s - loss: 0.4298 - accuracy: 0.8034\n",
            "Epoch 104/150\n",
            " - 0s - loss: 0.4374 - accuracy: 0.8047\n",
            "Epoch 105/150\n",
            " - 0s - loss: 0.4323 - accuracy: 0.7982\n",
            "Epoch 106/150\n",
            " - 0s - loss: 0.4340 - accuracy: 0.7891\n",
            "Epoch 107/150\n",
            " - 0s - loss: 0.4361 - accuracy: 0.7943\n",
            "Epoch 108/150\n",
            " - 0s - loss: 0.4389 - accuracy: 0.7943\n",
            "Epoch 109/150\n",
            " - 0s - loss: 0.4383 - accuracy: 0.7852\n",
            "Epoch 110/150\n",
            " - 0s - loss: 0.4279 - accuracy: 0.8008\n",
            "Epoch 111/150\n",
            " - 0s - loss: 0.4568 - accuracy: 0.7839\n",
            "Epoch 112/150\n",
            " - 0s - loss: 0.4365 - accuracy: 0.8008\n",
            "Epoch 113/150\n",
            " - 0s - loss: 0.4272 - accuracy: 0.7995\n",
            "Epoch 114/150\n",
            " - 0s - loss: 0.4372 - accuracy: 0.8086\n",
            "Epoch 115/150\n",
            " - 0s - loss: 0.4322 - accuracy: 0.7956\n",
            "Epoch 116/150\n",
            " - 0s - loss: 0.4336 - accuracy: 0.8034\n",
            "Epoch 117/150\n",
            " - 0s - loss: 0.4389 - accuracy: 0.7969\n",
            "Epoch 118/150\n",
            " - 0s - loss: 0.4308 - accuracy: 0.7982\n",
            "Epoch 119/150\n",
            " - 0s - loss: 0.4294 - accuracy: 0.7904\n",
            "Epoch 120/150\n",
            " - 0s - loss: 0.4278 - accuracy: 0.7982\n",
            "Epoch 121/150\n",
            " - 0s - loss: 0.4378 - accuracy: 0.7904\n",
            "Epoch 122/150\n",
            " - 0s - loss: 0.4324 - accuracy: 0.7839\n",
            "Epoch 123/150\n",
            " - 0s - loss: 0.4396 - accuracy: 0.7812\n",
            "Epoch 124/150\n",
            " - 0s - loss: 0.4408 - accuracy: 0.7891\n",
            "Epoch 125/150\n",
            " - 0s - loss: 0.4267 - accuracy: 0.8125\n",
            "Epoch 126/150\n",
            " - 0s - loss: 0.4315 - accuracy: 0.7956\n",
            "Epoch 127/150\n",
            " - 0s - loss: 0.4295 - accuracy: 0.8047\n",
            "Epoch 128/150\n",
            " - 0s - loss: 0.4427 - accuracy: 0.7839\n",
            "Epoch 129/150\n",
            " - 0s - loss: 0.4387 - accuracy: 0.7930\n",
            "Epoch 130/150\n",
            " - 0s - loss: 0.4352 - accuracy: 0.7878\n",
            "Epoch 131/150\n",
            " - 0s - loss: 0.4357 - accuracy: 0.7956\n",
            "Epoch 132/150\n",
            " - 0s - loss: 0.4438 - accuracy: 0.7799\n",
            "Epoch 133/150\n",
            " - 0s - loss: 0.4299 - accuracy: 0.8021\n",
            "Epoch 134/150\n",
            " - 0s - loss: 0.4354 - accuracy: 0.7891\n",
            "Epoch 135/150\n",
            " - 0s - loss: 0.4375 - accuracy: 0.7917\n",
            "Epoch 136/150\n",
            " - 0s - loss: 0.4293 - accuracy: 0.8021\n",
            "Epoch 137/150\n",
            " - 0s - loss: 0.4245 - accuracy: 0.8112\n",
            "Epoch 138/150\n",
            " - 0s - loss: 0.4318 - accuracy: 0.7917\n",
            "Epoch 139/150\n",
            " - 0s - loss: 0.4193 - accuracy: 0.8021\n",
            "Epoch 140/150\n",
            " - 0s - loss: 0.4495 - accuracy: 0.7943\n",
            "Epoch 141/150\n",
            " - 0s - loss: 0.4260 - accuracy: 0.7995\n",
            "Epoch 142/150\n",
            " - 0s - loss: 0.4345 - accuracy: 0.7891\n",
            "Epoch 143/150\n",
            " - 0s - loss: 0.4304 - accuracy: 0.8099\n",
            "Epoch 144/150\n",
            " - 0s - loss: 0.4342 - accuracy: 0.8086\n",
            "Epoch 145/150\n",
            " - 0s - loss: 0.4370 - accuracy: 0.7956\n",
            "Epoch 146/150\n",
            " - 0s - loss: 0.4417 - accuracy: 0.7943\n",
            "Epoch 147/150\n",
            " - 0s - loss: 0.4424 - accuracy: 0.7839\n",
            "Epoch 148/150\n",
            " - 0s - loss: 0.4297 - accuracy: 0.8112\n",
            "Epoch 149/150\n",
            " - 0s - loss: 0.4393 - accuracy: 0.7852\n",
            "Epoch 150/150\n",
            " - 0s - loss: 0.4371 - accuracy: 0.7904\n"
          ],
          "name": "stdout"
        }
      ]
    },
    {
      "cell_type": "code",
      "metadata": {
        "id": "IYgpN3mX3xNb",
        "colab_type": "code",
        "colab": {},
        "outputId": "ebf4a3d0-0239-407a-fbff-1be63de878ba"
      },
      "source": [
        "# now lets see how the accuracy of our model increased over training.\n",
        "# summarize history for accuracy\n",
        "print(training.history.keys())\n",
        "plt.plot(training.history['accuracy'])\n",
        "plt.title('Model Accuracy')\n",
        "plt.ylabel('Accuracy')\n",
        "plt.xlabel('Epochs')\n",
        "plt.show()"
      ],
      "execution_count": null,
      "outputs": [
        {
          "output_type": "stream",
          "text": [
            "dict_keys(['loss', 'accuracy'])\n"
          ],
          "name": "stdout"
        },
        {
          "output_type": "display_data",
          "data": {
            "image/png": "[encoded data removed]",
            "text/plain": [
              "<Figure size 432x288 with 1 Axes>"
            ]
          },
          "metadata": {
            "tags": [],
            "needs_background": "light"
          }
        }
      ]
    },
    {
      "cell_type": "code",
      "metadata": {
        "id": "tsNW8BFg3xNj",
        "colab_type": "code",
        "colab": {},
        "outputId": "c77fce7b-42d2-4cea-9d60-52b0e0c3643a"
      },
      "source": [
        "# now lets see how the loss of our model progressed over training.\n",
        "plt.plot(training.history['loss'])\n",
        "plt.title('Model Loss')\n",
        "plt.ylabel('Loss')\n",
        "plt.xlabel('Epochs')\n",
        "plt.show()"
      ],
      "execution_count": null,
      "outputs": [
        {
          "output_type": "display_data",
          "data": {
            "image/png": "[encoded data removed]",
            "text/plain": [
              "<Figure size 432x288 with 1 Axes>"
            ]
          },
          "metadata": {
            "tags": [],
            "needs_background": "light"
          }
        }
      ]
    },
    {
      "cell_type": "code",
      "metadata": {
        "id": "hyG2Ebue3xNo",
        "colab_type": "code",
        "colab": {},
        "outputId": "8de2290b-631d-4cd9-b839-b1764eeed2ea"
      },
      "source": [
        "# evaluate the keras model\n",
        "_, accuracy = model.evaluate(X, y)\n",
        "print('Accuracy: %.2f' % (accuracy*100))"
      ],
      "execution_count": null,
      "outputs": [
        {
          "output_type": "stream",
          "text": [
            "768/768 [==============================] - 0s 261us/step\n",
            "Accuracy: 73.96\n"
          ],
          "name": "stdout"
        }
      ]
    },
    {
      "cell_type": "markdown",
      "metadata": {
        "id": "Nwy_z3Eo4JMc",
        "colab_type": "text"
      },
      "source": [
        "Find code and explanations in LessonMaterials/KerasNueralNetwork.ipynb"
      ]
    }
  ]
}